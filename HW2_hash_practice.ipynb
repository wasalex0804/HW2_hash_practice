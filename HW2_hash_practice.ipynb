{
 "cells": [
  {
   "cell_type": "code",
   "execution_count": 3,
   "metadata": {},
   "outputs": [],
   "source": [
    "def word_counter(filename):\n",
    "    word_count = {} \n",
    "    \n",
    "    with open(filename, 'r') as file:\n",
    "        for line in file:\n",
    "            # 去除換行符號並算有幾個文字\n",
    "            for word in line.strip().split():\n",
    "                if word in word_count:\n",
    "                    word_count[word] += 1\n",
    "                else:\n",
    "                    word_count[word] = 1\n",
    "\n",
    "    unique_words = len(word_count)\n",
    "    return unique_words, word_count"
   ]
  },
  {
   "cell_type": "code",
   "execution_count": 5,
   "metadata": {},
   "outputs": [
    {
     "name": "stdout",
     "output_type": "stream",
     "text": [
      "總共有 10 個不重複的英文字\n",
      "每一個英文字出現次數為:\n",
      "Cheese:234\n",
      "Pizza:83\n",
      "Coke:145\n",
      "Steak:46\n",
      "Burger:196\n",
      "Fries:76\n",
      "Rib:33\n",
      "Taco:57\n",
      "Pho:19\n",
      "Potato:3\n"
     ]
    }
   ],
   "source": [
    "filename = \"hw2_data.txt\"\n",
    "unique_words, word_count = word_counter(filename)\n",
    "\n",
    "print(\"總共有 {} 個不重複的英文字\".format(unique_words) )\n",
    "print(\"每一個英文字出現次數為:\")\n",
    "for word, count in word_count.items():\n",
    "    print(\"{}:{}\" .format (word, count))"
   ]
  }
 ],
 "metadata": {
  "kernelspec": {
   "display_name": "Python 3",
   "language": "python",
   "name": "python3"
  },
  "language_info": {
   "codemirror_mode": {
    "name": "ipython",
    "version": 3
   },
   "file_extension": ".py",
   "mimetype": "text/x-python",
   "name": "python",
   "nbconvert_exporter": "python",
   "pygments_lexer": "ipython3",
   "version": "3.12.0"
  }
 },
 "nbformat": 4,
 "nbformat_minor": 2
}
